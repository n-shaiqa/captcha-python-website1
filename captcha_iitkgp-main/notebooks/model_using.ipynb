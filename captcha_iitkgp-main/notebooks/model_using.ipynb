{
  "nbformat": 4,
  "nbformat_minor": 0,
  "metadata": {
    "colab": {
      "provenance": []
    },
    "kernelspec": {
      "name": "python3",
      "display_name": "Python 3"
    },
    "language_info": {
      "name": "python"
    }
  },
  "cells": [
    {
      "cell_type": "code",
      "execution_count": 47,
      "metadata": {
        "id": "cRiz1r9pyHXl"
      },
      "outputs": [],
      "source": [
        "import os\n",
        "if os.path.exists(\"/content/Captcha_iitkgp\") is not True:\n",
        "  !git clone \"https://github.com/Sandeep-1507/Captcha_iitkgp\"\n",
        "  !unzip /content/Captcha_iitkgp/Model/model.zip"
      ]
    },
    {
      "cell_type": "code",
      "source": [
        "import os\n",
        "import numpy as np\n",
        "import matplotlib.pyplot as plt\n",
        "import string\n",
        "from PIL import Image\n",
        "from pathlib import Path\n",
        "from collections import Counter\n",
        "\n",
        "import tensorflow as tf\n",
        "from tensorflow import keras\n",
        "from tensorflow.keras import layers"
      ],
      "metadata": {
        "id": "aVD4rOnyzzMF"
      },
      "execution_count": 48,
      "outputs": []
    },
    {
      "cell_type": "code",
      "source": [
        "from tensorflow.keras.models import Sequential, save_model, load_model\n",
        "model = load_model(\"/content/kaggle/working\", compile = True)"
      ],
      "metadata": {
        "id": "theqiGAIzbt_"
      },
      "execution_count": 49,
      "outputs": []
    },
    {
      "cell_type": "code",
      "source": [
        "prediction_model = keras.models.Model(\n",
        "    model.get_layer(name=\"image\").input, model.get_layer(name=\"dense2\").output\n",
        ")\n",
        "prediction_model.summary()"
      ],
      "metadata": {
        "colab": {
          "base_uri": "https://localhost:8080/"
        },
        "id": "2swhLORlz52B",
        "outputId": "ed50b577-af82-4c13-de79-503785ad13a9"
      },
      "execution_count": 50,
      "outputs": [
        {
          "output_type": "stream",
          "name": "stdout",
          "text": [
            "Model: \"model_2\"\n",
            "_________________________________________________________________\n",
            " Layer (type)                Output Shape              Param #   \n",
            "=================================================================\n",
            " image (InputLayer)          [(None, 50, 198, 1)]      0         \n",
            "                                                                 \n",
            " Conv1 (Conv2D)              (None, 50, 198, 32)       320       \n",
            "                                                                 \n",
            " pool1 (MaxPooling2D)        (None, 25, 99, 32)        0         \n",
            "                                                                 \n",
            " Conv2 (Conv2D)              (None, 25, 99, 64)        18496     \n",
            "                                                                 \n",
            " pool2 (MaxPooling2D)        (None, 12, 49, 64)        0         \n",
            "                                                                 \n",
            " reshape (Reshape)           (None, 12, 3136)          0         \n",
            "                                                                 \n",
            " dense1 (Dense)              (None, 12, 64)            200768    \n",
            "                                                                 \n",
            " dropout_3 (Dropout)         (None, 12, 64)            0         \n",
            "                                                                 \n",
            " bidirectional_6 (Bidirectio  (None, 12, 256)          197632    \n",
            " nal)                                                            \n",
            "                                                                 \n",
            " bidirectional_7 (Bidirectio  (None, 12, 128)          164352    \n",
            " nal)                                                            \n",
            "                                                                 \n",
            " dense2 (Dense)              (None, 12, 40)            5160      \n",
            "                                                                 \n",
            "=================================================================\n",
            "Total params: 586,728\n",
            "Trainable params: 586,728\n",
            "Non-trainable params: 0\n",
            "_________________________________________________________________\n"
          ]
        }
      ]
    },
    {
      "cell_type": "code",
      "source": [
        "\n",
        "characters=set({ 'H', 'E', 'B', '8', 's', '2', 'J', 'K', 'G', 'T', '5', 'F', 'Y', 'U', 'C', 'R', 'L', 'S', 'W', 'Z', 'X', '9', '3', '7', '6', 'A', 'V', 'N', 'w', 'P', 'D', 'u', 'M', '4', 'c', 'x', 'y', 'j''C', 'T', '7', 'R', '5', '4', '2', 'D', 'M', 'G', 'Z', 'X', 'H', 'V', 'W', 'P', 'A', 'U', 'J', 'K', '6', 'B', 'N', 'E', '8', 'Y', '3', '9', 'S', 'F', 'L'})\n",
        "print(characters)\n",
        "characters=sorted(list(characters))\n",
        "char_to_num=layers.StringLookup(vocabulary=list(characters),mask_token=None)\n",
        "num_to_char = layers.StringLookup(vocabulary=char_to_num.get_vocabulary(), mask_token=None, invert=True)\n",
        "\n",
        "\n",
        "def decode_batch_predictions(pred):\n",
        "    max_length=6\n",
        "    input_len = np.ones(pred.shape[0]) * pred.shape[1]\n",
        "\n",
        "    results = keras.backend.ctc_decode(pred, input_length=input_len, greedy=True)[0][0][\n",
        "        :, :max_length\n",
        "    ]\n",
        "\n",
        "    output_text = []\n",
        "    for res in results:\n",
        "        res = tf.strings.reduce_join(num_to_char(res)).numpy().decode(\"utf-8\")\n",
        "        output_text.append(res)\n",
        "    return output_text\n",
        "\n",
        "\n"
      ],
      "metadata": {
        "colab": {
          "base_uri": "https://localhost:8080/"
        },
        "id": "zdkOk33iz97s",
        "outputId": "d9a4265a-9179-4ca9-de58-8bd587a69e64"
      },
      "execution_count": 88,
      "outputs": [
        {
          "output_type": "stream",
          "name": "stdout",
          "text": [
            "{'Z', 'L', 'T', 'G', 'S', 'A', 'D', 'jC', 'N', 'Y', 'V', 'W', 'c', '9', '6', 'u', 'H', '5', 'J', 'U', 's', 'w', 'x', '4', 'y', '8', 'C', 'P', 'X', '7', 'K', 'R', 'B', 'E', '2', '3', 'F', 'M'}\n"
          ]
        }
      ]
    },
    {
      "cell_type": "code",
      "source": [
        "def captchasolve(folder_path,model,num_images=1):\n",
        "  data_dir=Path(folder_path)\n",
        "  images=sorted(list(map(str,list(data_dir.glob(\"*.jpeg\")))))\n",
        "  labels=[img.split(os.path.sep)[-1].split(\".jpeg\")[0] for img in images]\n",
        "  # display(images[0])\n",
        "  # display(labels[0])\n",
        "\n",
        "\n",
        "  def encode_single_sample(img_path,label):\n",
        "    img=tf.io.read_file(img_path)\n",
        "    img=tf.io.decode_jpeg(img,channels=1)\n",
        "    img=tf.image.convert_image_dtype(img,tf.float32)\n",
        "    label=char_to_num(tf.strings.unicode_split(label,input_encoding=\"UTF-8\"))\n",
        "\n",
        "    return {\"image\": img, \"label\": label}\n",
        "\n",
        "  max_length=6\n",
        "  batch_size=num_images\n",
        "  x_test, y_test = (np.array(images), np.array(labels))\n",
        "\n",
        "  test_dataset = tf.data.Dataset.from_tensor_slices((x_test, y_test))\n",
        "  test_dataset = (test_dataset.map(encode_single_sample, num_parallel_calls=tf.data.AUTOTUNE).batch(batch_size).prefetch(buffer_size=tf.data.AUTOTUNE))\n",
        "\n",
        "  # batch_images = test_dataset.take(1)[\"image\"]\n",
        "  batch_images=[batch[\"image\"] for batch in test_dataset.take(1)]\n",
        "\n",
        "  preds = prediction_model.predict(batch_images)\n",
        "  pred_texts = decode_batch_predictions(preds)\n",
        "  print(pred_texts)"
      ],
      "metadata": {
        "id": "gA_ikL1Z5tQv"
      },
      "execution_count": 89,
      "outputs": []
    },
    {
      "cell_type": "code",
      "source": [
        "captchasolve(\"/content/Captcha_iitkgp/Data/testset\",prediction_model,num_images=100)"
      ],
      "metadata": {
        "colab": {
          "base_uri": "https://localhost:8080/"
        },
        "id": "Zbz34oTC0BdS",
        "outputId": "9e84097e-dc6d-491e-e6cd-8a482a8ef929"
      },
      "execution_count": 90,
      "outputs": [
        {
          "output_type": "stream",
          "name": "stdout",
          "text": [
            "4/4 [==============================] - 0s 104ms/step\n",
            "['2AK279', '2CJ763', '2DD7MJ', '2DG53S', '2DWW6A', '2Z7MW[UNK]', '2EP299', '2FV39D', '2FW97C', '2H24TY', '2H6X5B', '2HY4XV', '2J4LZF', '2J76D7', '2JDXR9', '2K7VK6', '2KA575', '2KRR6F', '2KX2GE', '2NR756', '2SW3HH', '2PG536', '2PG573', '2PX3CP', '2PX453', '2SN3P6', '2U3977', '2U726X', '2U7732', '2UPUBS', '2UXD5X', '2V39A3', '2V4G35', '2V5277', '2VU77D', '2X3YR7', '2Y593E', '2YHKT9', '2YXKB7', '2Z875R', '2ZKJPK', '2ZX5PS', '3A38KU', '3A3PH9', '3A77P3', '3ANP72', '3B59UB', '3B8497', '3B87FH', '3C367H', '3CK7XK', '3CP3PS', '3D33U7', '3D4324', '3D54P7', '3D97DA', '3DN34N', '3E98KH', '3EJ6UU', '3EKC6C', '3EU2LL', '3F7P63', '3FN8M4', '3FUGPU', '3G8746', '3G8C9P', '3GG82K', '3GSXNF', '3GVU6Z', '3H955F', '3HJH53', '3HSUMJ', '3HX3XL', '3JHPD2', '3K638G', '3L54XW', '3LJTHH', '3LP2AV', '3LR449', '3M8XP7', '3MRBX8', '3NKADL', '3NLBKJ', '3NXW2Z', '3P3LE5', '3P5P7U', '3P5SUP', '3P629S', '3PE79X', '3PGV36', '3PNMX8', '3PPXEW', '3RV3F7', '3S9EJB', '3SB8C2', '3T439N', '3T7XD7', '3T8N94', '3THNXH', '3TUV35']\n"
          ]
        }
      ]
    }
  ]
}